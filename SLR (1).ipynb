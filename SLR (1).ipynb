{
 "cells": [
  {
   "cell_type": "markdown",
   "id": "217e619b-dad2-4182-a720-ad70c32e3daf",
   "metadata": {},
   "source": [
    "# Simple Linear Regression"
   ]
  },
  {
   "cell_type": "markdown",
   "id": "214830e5-5817-40f8-b5bc-6309d5d545b4",
   "metadata": {},
   "source": [
    "### The Model"
   ]
  },
  {
   "cell_type": "markdown",
   "id": "d9da460b-48d9-4310-bbe8-80eaaae79781",
   "metadata": {},
   "source": [
    "This is probably the most basic machine learning model, yet it is still very powerful. It is a supervised machine learning model which just means that it requires data to train on in order to make predictions. The true relationship between X and Y meaning if we have all the data takes on the form:\n",
    "$$y = \\beta_0 + \\beta_1x + \\epsilon$$\n",
    "Epsilon is just an irreducible error term. However, we don't have all the data, we have a small sample of data in order to make predictions. So how do we make the best estimate for the coefficients for the linear model?"
   ]
  },
  {
   "cell_type": "markdown",
   "id": "cd1370e1-f598-490d-9fca-fcfa83ed2c37",
   "metadata": {},
   "source": [
    "### RSS"
   ]
  },
  {
   "cell_type": "markdown",
   "id": "2c2894bb-644f-47be-ae91-9dbc98fbb396",
   "metadata": {},
   "source": [
    "First, we need to understand something called the RSS(residual sum of squares). Residuals are simply the difference between the actual values from the training data set and predicted values given by the linear model. The RSS is the sum of all the residuals squared in the training data set. We square the residuals because we want to figure out how much error there is not if they are negative or positive. Here is the formula for RSS: $$\\sum\\limits_{i=1}^{n}(y_i - \\hat{y})^2$$n is the number of observations in the training data, $y_i$ is the actual value of the observation in the training data, and $\\hat{y}$ is the predicted value given by the linear model. We can rewrite it as: $$\\sum\\limits_{i=1}^{n} (y_i - (\\beta_0 + \\beta_1x))^2$$ Now, the way we make the estimate of our coefficients is to find the values that minimize the RSS. How do we do this?"
   ]
  },
  {
   "cell_type": "markdown",
   "id": "200909ba-ef14-4997-94ec-0fd3402e9dde",
   "metadata": {
    "tags": []
   },
   "source": [
    "### Estimating $\\beta_0$,$\\beta_1$"
   ]
  },
  {
   "cell_type": "markdown",
   "id": "94ac8106-656c-41a2-9812-9899e0a163b5",
   "metadata": {},
   "source": [
    "To find the estimates for $\\beta_0$,$\\beta_1$ that minimize the RSS, we're gonna differentiate the RSS with respect to both $\\beta_0$,$\\beta_1$ and set both derivatives equal to zero and solve for $\\beta_0$,$\\beta_1$ $$\\frac{\\partial{RSS}}{\\partial{\\beta_0}}(\\sum\\limits_{i=1}^{n} (y_i - (\\beta_0 + \\beta_1x))^2)$$ $$\\frac{\\partial{RSS}}{\\partial{\\beta_1}}(\\sum\\limits_{i=1}^{n} (y_i - (\\beta_0 + \\beta_1x))^2)$$Setting these derivatives equal to zero, then solving for $\\beta_0$,$\\beta_1$, we get:$$\\hat{\\beta_1} = \\frac{\\sum\\limits_{i=1}^{n}(x_i - \\bar{x})(y_i - \\bar{y})}{\\sum\\limits_{i=1}^{n}(x_i - \\bar{x})^2}$$$$\\hat{\\beta_0} = \\bar{y} - \\hat{\\beta_1}\\bar{x}$$ $\\bar{x}$ is the average for the x values of the training data and $\\bar{y}$ is the average for the y values of the training data. The hats on $\\beta_0$,$\\beta_1$ signify that these are estimates that minimize the training RSS.These formulas themselves and doing the differentiation and algebra to get these formulas is not really important. What's most important is understanding how we arrived at these formulas and developing the mathematical intuition behind how simple linear regression works."
   ]
  },
  {
   "cell_type": "markdown",
   "id": "ec61ccae-f2fb-40c4-9d39-69ff6d1947d4",
   "metadata": {},
   "source": [
    "### Assessing the fit of the model"
   ]
  },
  {
   "cell_type": "markdown",
   "id": "dd57ea11-0cd2-4301-83d7-896ea4a27db6",
   "metadata": {},
   "source": [
    "Now we want to evaluate how well the model fit the data. We do this with something called the R^2 coefficient. The mathematical formula for this is $$R^2 = \\frac{TSS - RSS}{TSS}$$TSS is defined as $\\sum\\limits_{i=1}^{n}(y_i - \\bar{y})^2$. It measures the total variance in the response y. RSS measures the amount of variability left after performing the regression. So $R^2$ measures the proportion of variability in y that can be explained using x. We want a $R^2$ coefficient that is close to 1 because that indicates that a large proportion of variability in y is explained by the regression model. Again, knowing these formulas is not the important part. It's understanding why these formulas make sense and what all these values actually mean in the context of simple linear regression. "
   ]
  },
  {
   "cell_type": "markdown",
   "id": "33df585e-ed91-4aa3-8bf4-67c19766eb9f",
   "metadata": {},
   "source": [
    "### Assumptions for simple linear regression"
   ]
  },
  {
   "cell_type": "markdown",
   "id": "835eeb62-f7e7-4a76-9760-75f759e139e1",
   "metadata": {},
   "source": [
    "So now we're gonna look at an actual dataset and perform simple linear regression on it. However, before we even do that, we need to see if that data is a good candidate for linear regression. To do that, we're gonna see if it satisfies some assumptions/requirements of linear regression. Know these assumptions well because they very often come up in data science interviews. Then I'll go over 6 assumptions of linear regression. Probably have them plot all of these things including linearity, variance of error terms, outliers, and all of it. It will give them practice plotting. For vitamin, I'll ask them How do we estimate coefficients? What does R^2 mean? What are two assumptions for linear regression? For homework, Ill probaly just give them another data set and tell them to check assumptions then just perform linear regression and evaluate how well it does. "
   ]
  },
  {
   "cell_type": "markdown",
   "id": "d3f89e27-21a9-4a60-9c3c-d807df7a320b",
   "metadata": {},
   "source": [
    "First, we're gonna load in the dataset."
   ]
  },
  {
   "cell_type": "code",
   "execution_count": 59,
   "id": "41c6826b-7b97-4de7-9831-bbf1b50550a2",
   "metadata": {},
   "outputs": [],
   "source": [
    "import pandas as pd\n",
    "import numpy as np\n",
    "import seaborn as sns\n",
    "from sklearn.model_selection import train_test_split\n",
    "from sklearn.linear_model import LinearRegression"
   ]
  },
  {
   "cell_type": "code",
   "execution_count": 60,
   "id": "520f4ab4-149a-4618-8c7a-1eac612ca2f3",
   "metadata": {},
   "outputs": [
    {
     "data": {
      "text/html": [
       "<div>\n",
       "<style scoped>\n",
       "    .dataframe tbody tr th:only-of-type {\n",
       "        vertical-align: middle;\n",
       "    }\n",
       "\n",
       "    .dataframe tbody tr th {\n",
       "        vertical-align: top;\n",
       "    }\n",
       "\n",
       "    .dataframe thead th {\n",
       "        text-align: right;\n",
       "    }\n",
       "</style>\n",
       "<table border=\"1\" class=\"dataframe\">\n",
       "  <thead>\n",
       "    <tr style=\"text-align: right;\">\n",
       "      <th></th>\n",
       "      <th>YearsExperience</th>\n",
       "      <th>Salary</th>\n",
       "    </tr>\n",
       "  </thead>\n",
       "  <tbody>\n",
       "    <tr>\n",
       "      <th>0</th>\n",
       "      <td>1.2</td>\n",
       "      <td>39344.0</td>\n",
       "    </tr>\n",
       "    <tr>\n",
       "      <th>1</th>\n",
       "      <td>1.4</td>\n",
       "      <td>46206.0</td>\n",
       "    </tr>\n",
       "    <tr>\n",
       "      <th>2</th>\n",
       "      <td>1.6</td>\n",
       "      <td>37732.0</td>\n",
       "    </tr>\n",
       "    <tr>\n",
       "      <th>3</th>\n",
       "      <td>2.1</td>\n",
       "      <td>43526.0</td>\n",
       "    </tr>\n",
       "    <tr>\n",
       "      <th>4</th>\n",
       "      <td>2.3</td>\n",
       "      <td>39892.0</td>\n",
       "    </tr>\n",
       "    <tr>\n",
       "      <th>5</th>\n",
       "      <td>3.0</td>\n",
       "      <td>56643.0</td>\n",
       "    </tr>\n",
       "    <tr>\n",
       "      <th>6</th>\n",
       "      <td>3.1</td>\n",
       "      <td>60151.0</td>\n",
       "    </tr>\n",
       "    <tr>\n",
       "      <th>7</th>\n",
       "      <td>3.3</td>\n",
       "      <td>54446.0</td>\n",
       "    </tr>\n",
       "    <tr>\n",
       "      <th>8</th>\n",
       "      <td>3.3</td>\n",
       "      <td>64446.0</td>\n",
       "    </tr>\n",
       "    <tr>\n",
       "      <th>9</th>\n",
       "      <td>3.8</td>\n",
       "      <td>57190.0</td>\n",
       "    </tr>\n",
       "    <tr>\n",
       "      <th>10</th>\n",
       "      <td>4.0</td>\n",
       "      <td>63219.0</td>\n",
       "    </tr>\n",
       "    <tr>\n",
       "      <th>11</th>\n",
       "      <td>4.1</td>\n",
       "      <td>55795.0</td>\n",
       "    </tr>\n",
       "    <tr>\n",
       "      <th>12</th>\n",
       "      <td>4.1</td>\n",
       "      <td>56958.0</td>\n",
       "    </tr>\n",
       "    <tr>\n",
       "      <th>13</th>\n",
       "      <td>4.2</td>\n",
       "      <td>57082.0</td>\n",
       "    </tr>\n",
       "    <tr>\n",
       "      <th>14</th>\n",
       "      <td>4.6</td>\n",
       "      <td>61112.0</td>\n",
       "    </tr>\n",
       "    <tr>\n",
       "      <th>15</th>\n",
       "      <td>5.0</td>\n",
       "      <td>67939.0</td>\n",
       "    </tr>\n",
       "    <tr>\n",
       "      <th>16</th>\n",
       "      <td>5.2</td>\n",
       "      <td>66030.0</td>\n",
       "    </tr>\n",
       "    <tr>\n",
       "      <th>17</th>\n",
       "      <td>5.4</td>\n",
       "      <td>83089.0</td>\n",
       "    </tr>\n",
       "    <tr>\n",
       "      <th>18</th>\n",
       "      <td>6.0</td>\n",
       "      <td>81364.0</td>\n",
       "    </tr>\n",
       "    <tr>\n",
       "      <th>19</th>\n",
       "      <td>6.1</td>\n",
       "      <td>93941.0</td>\n",
       "    </tr>\n",
       "    <tr>\n",
       "      <th>20</th>\n",
       "      <td>6.9</td>\n",
       "      <td>91739.0</td>\n",
       "    </tr>\n",
       "    <tr>\n",
       "      <th>21</th>\n",
       "      <td>7.2</td>\n",
       "      <td>98274.0</td>\n",
       "    </tr>\n",
       "    <tr>\n",
       "      <th>22</th>\n",
       "      <td>8.0</td>\n",
       "      <td>101303.0</td>\n",
       "    </tr>\n",
       "    <tr>\n",
       "      <th>23</th>\n",
       "      <td>8.3</td>\n",
       "      <td>113813.0</td>\n",
       "    </tr>\n",
       "    <tr>\n",
       "      <th>24</th>\n",
       "      <td>8.8</td>\n",
       "      <td>109432.0</td>\n",
       "    </tr>\n",
       "    <tr>\n",
       "      <th>25</th>\n",
       "      <td>9.1</td>\n",
       "      <td>105583.0</td>\n",
       "    </tr>\n",
       "    <tr>\n",
       "      <th>26</th>\n",
       "      <td>9.6</td>\n",
       "      <td>116970.0</td>\n",
       "    </tr>\n",
       "    <tr>\n",
       "      <th>27</th>\n",
       "      <td>9.7</td>\n",
       "      <td>112636.0</td>\n",
       "    </tr>\n",
       "    <tr>\n",
       "      <th>28</th>\n",
       "      <td>10.4</td>\n",
       "      <td>122392.0</td>\n",
       "    </tr>\n",
       "    <tr>\n",
       "      <th>29</th>\n",
       "      <td>10.6</td>\n",
       "      <td>121873.0</td>\n",
       "    </tr>\n",
       "  </tbody>\n",
       "</table>\n",
       "</div>"
      ],
      "text/plain": [
       "    YearsExperience    Salary\n",
       "0               1.2   39344.0\n",
       "1               1.4   46206.0\n",
       "2               1.6   37732.0\n",
       "3               2.1   43526.0\n",
       "4               2.3   39892.0\n",
       "5               3.0   56643.0\n",
       "6               3.1   60151.0\n",
       "7               3.3   54446.0\n",
       "8               3.3   64446.0\n",
       "9               3.8   57190.0\n",
       "10              4.0   63219.0\n",
       "11              4.1   55795.0\n",
       "12              4.1   56958.0\n",
       "13              4.2   57082.0\n",
       "14              4.6   61112.0\n",
       "15              5.0   67939.0\n",
       "16              5.2   66030.0\n",
       "17              5.4   83089.0\n",
       "18              6.0   81364.0\n",
       "19              6.1   93941.0\n",
       "20              6.9   91739.0\n",
       "21              7.2   98274.0\n",
       "22              8.0  101303.0\n",
       "23              8.3  113813.0\n",
       "24              8.8  109432.0\n",
       "25              9.1  105583.0\n",
       "26              9.6  116970.0\n",
       "27              9.7  112636.0\n",
       "28             10.4  122392.0\n",
       "29             10.6  121873.0"
      ]
     },
     "execution_count": 60,
     "metadata": {},
     "output_type": "execute_result"
    }
   ],
   "source": [
    "salary = pd.read_csv(\"/Users/aniketarahane/Downloads/Salary_dataset.csv\").drop('Unnamed: 0', axis= 'columns')\n",
    "salary"
   ]
  },
  {
   "cell_type": "markdown",
   "id": "6fd26186-470d-43a9-8bc9-3f3bd44f0dce",
   "metadata": {},
   "source": [
    "This dataset has information about salary and years of experience so we are going to see if we can predict salary with years of experience using simple linear regression. The first assumption we are going to check is whether years of experience and salary look like they have an approximately linear relationship.  "
   ]
  },
  {
   "cell_type": "code",
   "execution_count": 61,
   "id": "66cefc20-cb9c-4ccb-ac82-8bbb85d888ae",
   "metadata": {},
   "outputs": [
    {
     "data": {
      "text/plain": [
       "<AxesSubplot:xlabel='YearsExperience', ylabel='Salary'>"
      ]
     },
     "execution_count": 61,
     "metadata": {},
     "output_type": "execute_result"
    },
    {
     "data": {
      "image/png": "[encoded data removed]",
      "text/plain": [
       "<Figure size 640x480 with 1 Axes>"
      ]
     },
     "metadata": {},
     "output_type": "display_data"
    }
   ],
   "source": [
    "sns.scatterplot(x='YearsExperience', y='Salary', data = salary)"
   ]
  },
  {
   "cell_type": "markdown",
   "id": "81f0fae6-8d1e-40a5-bcc1-657a76081fcd",
   "metadata": {},
   "source": [
    "We can see that the scatter plot looks approximately linear."
   ]
  },
  {
   "cell_type": "markdown",
   "id": "5aa76ee7-f751-41dc-b050-4b94ed094112",
   "metadata": {},
   "source": [
    "Next, let's check for outliers which we are going to do using a boxplot. "
   ]
  },
  {
   "cell_type": "code",
   "execution_count": 62,
   "id": "791f9fd2-5088-46f9-92bf-2a6a8fc36352",
   "metadata": {},
   "outputs": [
    {
     "name": "stderr",
     "output_type": "stream",
     "text": [
      "/Users/aniketarahane/opt/anaconda3/lib/python3.9/site-packages/seaborn/_decorators.py:36: FutureWarning: Pass the following variable as a keyword arg: x. From version 0.12, the only valid positional argument will be `data`, and passing other arguments without an explicit keyword will result in an error or misinterpretation.\n",
      "  warnings.warn(\n"
     ]
    },
    {
     "data": {
      "text/plain": [
       "<AxesSubplot:xlabel='Salary'>"
      ]
     },
     "execution_count": 62,
     "metadata": {},
     "output_type": "execute_result"
    },
    {
     "data": {
      "image/png": "[encoded data removed]",
      "text/plain": [
       "<Figure size 640x480 with 1 Axes>"
      ]
     },
     "metadata": {},
     "output_type": "display_data"
    }
   ],
   "source": [
    "sns.boxplot(salary['Salary'])"
   ]
  },
  {
   "cell_type": "markdown",
   "id": "785aae13-c455-498c-ade4-ae255a46c251",
   "metadata": {},
   "source": [
    "There is no outliers as we can see. The next assumption, we are going to look at is high leverage points. This are just points in the training data set where the y values are unusual given x. Looking at the scatter plot we made above, we can see visually that there aren't any high leverage points. "
   ]
  },
  {
   "cell_type": "markdown",
   "id": "4e246c23-8a3c-4ab4-b49d-738cef89b5e1",
   "metadata": {},
   "source": [
    "Now to check the rest of the assumptions, we first need to fit a linear regression model and find the residuals. "
   ]
  },
  {
   "cell_type": "code",
   "execution_count": 72,
   "id": "7a23ea76-b79a-43f5-becb-f13eedb4cb77",
   "metadata": {},
   "outputs": [
    {
     "data": {
      "text/plain": [
       "array([[ -6309.73187114],\n",
       "       [   777.39810829],\n",
       "       [  8333.70313914],\n",
       "       [  6720.53623029],\n",
       "       [  5508.52808773],\n",
       "       [ -3435.78799178],\n",
       "       [ -8351.54722413],\n",
       "       [  1253.9904318 ],\n",
       "       [  7882.30505826],\n",
       "       [-10349.88918437],\n",
       "       [ -3978.5649623 ],\n",
       "       [  2068.69354352],\n",
       "       [  -362.92611378],\n",
       "       [   -63.41724469],\n",
       "       [  8803.02736121],\n",
       "       [  4947.78659356],\n",
       "       [ -8813.24074023],\n",
       "       [  1897.74006854],\n",
       "       [  1140.29546265],\n",
       "       [   433.36117889],\n",
       "       [ -8102.25993146]])"
      ]
     },
     "execution_count": 72,
     "metadata": {},
     "output_type": "execute_result"
    }
   ],
   "source": [
    "x = np.array(salary['YearsExperience']).reshape(-1, 1)\n",
    "y = np.array(salary['Salary']).reshape(-1, 1)\n",
    "x_train, x_test, y_train, y_test = train_test_split(x, y, train_size = 0.7, test_size = 0.3, random_state = 100)\n",
    "lr = LinearRegression()\n",
    "lr.fit(x_train, y_train)\n",
    "y_hat = lr.predict(x_train)\n",
    "res = y_hat - y_train\n",
    "res"
   ]
  },
  {
   "cell_type": "markdown",
   "id": "6ac7dbf4-5645-412c-a8a4-de9d2cd076e4",
   "metadata": {},
   "source": [
    "Now, we're gonna check the other assumptions of linear regression which both have to do with residuals. Residuals should have constant variance and should have no pattern/correlation among terms."
   ]
  },
  {
   "cell_type": "code",
   "execution_count": 80,
   "id": "821e0843-e9f6-476b-a0f8-d6ac21717d6d",
   "metadata": {},
   "outputs": [
    {
     "data": {
      "text/plain": [
       "<AxesSubplot:>"
      ]
     },
     "execution_count": 80,
     "metadata": {},
     "output_type": "execute_result"
    },
    {
     "data": {
      "image/png": "[encoded data removed]",
      "text/plain": [
       "<Figure size 640x480 with 1 Axes>"
      ]
     },
     "metadata": {},
     "output_type": "display_data"
    }
   ],
   "source": [
    "sns.scatterplot(x= x_train.flatten(), y= res.flatten())"
   ]
  },
  {
   "cell_type": "markdown",
   "id": "c4a017ca-1d81-43a4-a7a2-0ec782a7a9fb",
   "metadata": {},
   "source": [
    "We clearly see no pattern/correlation and there is pretty constant variance in the values. "
   ]
  }
 ],
 "metadata": {
  "kernelspec": {
   "display_name": "Python 3 (ipykernel)",
   "language": "python",
   "name": "python3"
  },
  "language_info": {
   "codemirror_mode": {
    "name": "ipython",
    "version": 3
   },
   "file_extension": ".py",
   "mimetype": "text/x-python",
   "name": "python",
   "nbconvert_exporter": "python",
   "pygments_lexer": "ipython3",
   "version": "3.9.13"
  }
 },
 "nbformat": 4,
 "nbformat_minor": 5
}
